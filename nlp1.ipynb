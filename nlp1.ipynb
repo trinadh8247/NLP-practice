{
 "cells": [
  {
   "cell_type": "code",
   "execution_count": 10,
   "id": "6b87a447",
   "metadata": {},
   "outputs": [],
   "source": [
    "corpus=\"\"\"hello welcome to trinadh nlp1.\n",
    "This is my first notebook.\"\"\""
   ]
  },
  {
   "cell_type": "code",
   "execution_count": null,
   "id": "0b251a0c",
   "metadata": {},
   "outputs": [],
   "source": [
    "import nltk\n",
    "# Uncomment to download punkt if you haven't already\n",
    "# nltk.download('punkt')\n",
    "# nltk.download('punkt_tab')"
   ]
  },
  {
   "cell_type": "code",
   "execution_count": null,
   "id": "980bdf8f",
   "metadata": {},
   "outputs": [],
   "source": [
    "import nltk\n",
    "nltk.download('punkt')"
   ]
  },
  {
   "cell_type": "code",
   "execution_count": 6,
   "id": "5dc4299c",
   "metadata": {},
   "outputs": [],
   "source": [
    "## tokenization\n",
    "## sentence ---> paragraphs\n",
    "\n",
    "from nltk.tokenize import sent_tokenize\n",
    "sentences=sent_tokenize(corpus) "
   ]
  },
  {
   "cell_type": "code",
   "execution_count": 7,
   "id": "48fcb277",
   "metadata": {},
   "outputs": [
    {
     "data": {
      "text/plain": [
       "['hello',\n",
       " 'welcome',\n",
       " 'to',\n",
       " 'trinadh',\n",
       " 'nlp1',\n",
       " '.',\n",
       " 'This',\n",
       " 'is',\n",
       " 'my',\n",
       " 'first',\n",
       " 'notebook']"
      ]
     },
     "execution_count": 7,
     "metadata": {},
     "output_type": "execute_result"
    }
   ],
   "source": [
    "from nltk.tokenize import word_tokenize\n",
    "words=word_tokenize(corpus)\n",
    "words"
   ]
  },
  {
   "cell_type": "code",
   "execution_count": 11,
   "id": "2bb400c8",
   "metadata": {},
   "outputs": [
    {
     "data": {
      "text/plain": [
       "['hello',\n",
       " 'welcome',\n",
       " 'to',\n",
       " 'trinadh',\n",
       " 'nlp1',\n",
       " '.',\n",
       " 'This',\n",
       " 'is',\n",
       " 'my',\n",
       " 'first',\n",
       " 'notebook',\n",
       " '.']"
      ]
     },
     "execution_count": 11,
     "metadata": {},
     "output_type": "execute_result"
    }
   ],
   "source": [
    "from nltk.tokenize import wordpunct_tokenize\n",
    "word_punct=wordpunct_tokenize(corpus)\n",
    "word_punct"
   ]
  },
  {
   "cell_type": "code",
   "execution_count": 12,
   "id": "5334f404",
   "metadata": {},
   "outputs": [
    {
     "data": {
      "text/plain": [
       "['hello',\n",
       " 'welcome',\n",
       " 'to',\n",
       " 'trinadh',\n",
       " 'nlp1.',\n",
       " 'This',\n",
       " 'is',\n",
       " 'my',\n",
       " 'first',\n",
       " 'notebook',\n",
       " '.']"
      ]
     },
     "execution_count": 12,
     "metadata": {},
     "output_type": "execute_result"
    }
   ],
   "source": [
    "## tree bank tokenizer\n",
    "from nltk.tokenize import TreebankWordTokenizer\n",
    "treebank_tokenizer=TreebankWordTokenizer()\n",
    "treebank_tokenizer.tokenize(corpus)"
   ]
  },
  {
   "cell_type": "code",
   "execution_count": null,
   "id": "dae9e206",
   "metadata": {},
   "outputs": [],
   "source": []
  }
 ],
 "metadata": {
  "kernelspec": {
   "display_name": "Python 3",
   "language": "python",
   "name": "python3"
  },
  "language_info": {
   "codemirror_mode": {
    "name": "ipython",
    "version": 3
   },
   "file_extension": ".py",
   "mimetype": "text/x-python",
   "name": "python",
   "nbconvert_exporter": "python",
   "pygments_lexer": "ipython3",
   "version": "3.11.9"
  }
 },
 "nbformat": 4,
 "nbformat_minor": 5
}
