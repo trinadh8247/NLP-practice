{
 "cells": [
  {
   "cell_type": "code",
   "execution_count": 1,
   "id": "6db686c9",
   "metadata": {},
   "outputs": [],
   "source": [
    " ## stemming\n",
    "\n",
    "words=['run','running','runner','ran','runs','eating','eaten','eats','ate','writing','written','writes','wrote']"
   ]
  },
  {
   "cell_type": "code",
   "execution_count": 2,
   "id": "9cd2a1ce",
   "metadata": {},
   "outputs": [
    {
     "data": {
      "text/plain": [
       "['run',\n",
       " 'run',\n",
       " 'runner',\n",
       " 'ran',\n",
       " 'run',\n",
       " 'eat',\n",
       " 'eaten',\n",
       " 'eat',\n",
       " 'ate',\n",
       " 'write',\n",
       " 'written',\n",
       " 'write',\n",
       " 'wrote']"
      ]
     },
     "execution_count": 2,
     "metadata": {},
     "output_type": "execute_result"
    }
   ],
   "source": [
    "### porter stemmer\n",
    "from nltk.stem import PorterStemmer\n",
    "porter_stemmer=PorterStemmer()\n",
    "porter_stemmed=[porter_stemmer.stem(word) for word in words]\n",
    "porter_stemmed"
   ]
  },
  {
   "cell_type": "code",
   "execution_count": 3,
   "id": "4cf4fc9a",
   "metadata": {},
   "outputs": [
    {
     "data": {
      "text/plain": [
       "'congratul'"
      ]
     },
     "execution_count": 3,
     "metadata": {},
     "output_type": "execute_result"
    }
   ],
   "source": [
    "porter_stemmer.stem('congratulations')"
   ]
  },
  {
   "cell_type": "code",
   "execution_count": 4,
   "id": "1b0aa654",
   "metadata": {},
   "outputs": [],
   "source": [
    "## regexp stemmer\n",
    "from nltk.stem import RegexpStemmer\n",
    "regexp_stemmer=RegexpStemmer('ing$|s$|e$|ed$')\n",
    "regexp_stemmed=[regexp_stemmer.stem(word) for word in words]"
   ]
  },
  {
   "cell_type": "code",
   "execution_count": 5,
   "id": "fe7cb1e7",
   "metadata": {},
   "outputs": [
    {
     "data": {
      "text/plain": [
       "['run',\n",
       " 'runn',\n",
       " 'runner',\n",
       " 'ran',\n",
       " 'run',\n",
       " 'eat',\n",
       " 'eaten',\n",
       " 'eat',\n",
       " 'at',\n",
       " 'writ',\n",
       " 'written',\n",
       " 'write',\n",
       " 'wrot']"
      ]
     },
     "execution_count": 5,
     "metadata": {},
     "output_type": "execute_result"
    }
   ],
   "source": [
    "regexp_stemmed"
   ]
  },
  {
   "cell_type": "code",
   "execution_count": 7,
   "id": "c1ce2b48",
   "metadata": {},
   "outputs": [
    {
     "data": {
      "text/plain": [
       "['run---->run',\n",
       " 'running---->run',\n",
       " 'runner---->runner',\n",
       " 'ran---->ran',\n",
       " 'runs---->run',\n",
       " 'eating---->eat',\n",
       " 'eaten---->eaten',\n",
       " 'eats---->eat',\n",
       " 'ate---->ate',\n",
       " 'writing---->write',\n",
       " 'written---->written',\n",
       " 'writes---->write',\n",
       " 'wrote---->wrote']"
      ]
     },
     "execution_count": 7,
     "metadata": {},
     "output_type": "execute_result"
    }
   ],
   "source": [
    "## snowball stemmer\n",
    "from nltk.stem import SnowballStemmer\n",
    "snowball_stemmer=SnowballStemmer('english')\n",
    "snowball_stemmed=[word+'---->'+snowball_stemmer.stem(word) for word in words]\n",
    "snowball_stemmed"
   ]
  },
  {
   "cell_type": "code",
   "execution_count": null,
   "id": "a203265e",
   "metadata": {},
   "outputs": [],
   "source": []
  }
 ],
 "metadata": {
  "kernelspec": {
   "display_name": "Python 3",
   "language": "python",
   "name": "python3"
  },
  "language_info": {
   "codemirror_mode": {
    "name": "ipython",
    "version": 3
   },
   "file_extension": ".py",
   "mimetype": "text/x-python",
   "name": "python",
   "nbconvert_exporter": "python",
   "pygments_lexer": "ipython3",
   "version": "3.11.9"
  }
 },
 "nbformat": 4,
 "nbformat_minor": 5
}
